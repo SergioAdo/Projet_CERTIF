{
 "cells": [
  {
   "cell_type": "markdown",
   "metadata": {},
   "source": [
    "# Introduction"
   ]
  },
  {
   "cell_type": "markdown",
   "metadata": {},
   "source": [
    "Nous allons dans ce notebook ecrire les differentes formules/fonctions utilisees dans Power BI, afin de creer de nouvelles colonnes par table dans l'onglet Data View, et des indicateurs(mesures) qui nous permettront d'avoir une meilleure vision globale de l'activite du supermarche.\n",
    "\n",
    "NOTE: ce notebook n'est pas a executer"
   ]
  },
  {
   "cell_type": "markdown",
   "metadata": {},
   "source": [
    "# Ajout de colonnes"
   ]
  },
  {
   "cell_type": "markdown",
   "metadata": {},
   "source": [
    "## Table Calendrier"
   ]
  },
  {
   "cell_type": "code",
   "execution_count": null,
   "metadata": {
    "cell_style": "center"
   },
   "outputs": [],
   "source": [
    "# Creons une colonne weekend (samedi ou dimanche) pour classer les jours OUI/NON\n",
    "weekend = if(or('calendrier'[Day Name]= 'Saturday', 'calendrier'[Day Name]= 'Sunday' ), 'O','N')"
   ]
  },
  {
   "cell_type": "code",
   "execution_count": null,
   "metadata": {},
   "outputs": [],
   "source": [
    "# Creons une colonne Fin de mois\n",
    "fin_de_mois = EOMONTH('calendrier'[date], 0)"
   ]
  },
  {
   "cell_type": "markdown",
   "metadata": {},
   "source": [
    "## Table Clients"
   ]
  },
  {
   "cell_type": "code",
   "execution_count": null,
   "metadata": {},
   "outputs": [],
   "source": [
    "#Creons une colonne pour connaitre l'age actuel (donnees datant de 1998!!!!, nous allons rajeunir les clients de 20 ans) \n",
    "age = DATEDIFF(clients['date_naissance'], TODAY(), YEAR) - 20"
   ]
  },
  {
   "cell_type": "code",
   "execution_count": null,
   "metadata": {},
   "outputs": [],
   "source": [
    "# Creons une colonne priorite pour categoriser les clients\n",
    "priorite = IF(clients[carte_fidelite]= \"Golden\" && clients[proprietaire]= \"Y\", \"Haute\", \"Normale\")"
   ]
  },
  {
   "cell_type": "code",
   "execution_count": null,
   "metadata": {},
   "outputs": [],
   "source": [
    "# Creons une colonne pour recuperer les 3 premieres lettres du pays\n",
    "pays_court_client = UPPER(LEFT(clients[pays_client], 3))"
   ]
  },
  {
   "cell_type": "markdown",
   "metadata": {},
   "source": [
    "## Table Produits"
   ]
  },
  {
   "cell_type": "code",
   "execution_count": null,
   "metadata": {},
   "outputs": [],
   "source": [
    "# Creons une colonne afin de classer les produits par prix (si prix de vente > 3$ => Haute, > 1$ => Moyenne, reste => Basse)\n",
    "classe_produit = IF(produits[prix_vente_produit] > 3, \"Haute\", IF(produits[prix_vente_produit] > 1, \"Moyenne\", \"Basse\"))"
   ]
  },
  {
   "cell_type": "markdown",
   "metadata": {},
   "source": [
    "## Table Magasins"
   ]
  },
  {
   "cell_type": "code",
   "execution_count": null,
   "metadata": {},
   "outputs": [],
   "source": [
    "# Creons une colonne pour savoir depuis combien d'annees a ete fait le dernier remodeling\n",
    "annees_dernier_remodeling = DATEDIFF(magasins[date_remodeling_magasin], TODAY(), YEAR) - 20"
   ]
  },
  {
   "cell_type": "markdown",
   "metadata": {},
   "source": [
    "# Ajout des mesures"
   ]
  },
  {
   "cell_type": "markdown",
   "metadata": {},
   "source": [
    "## Tables Transactions et Retours"
   ]
  },
  {
   "cell_type": "code",
   "execution_count": null,
   "metadata": {},
   "outputs": [],
   "source": [
    "# Creons pour chaque table une mesure nous permettant de connaitre la quantite vendue, et la quantite retournee\n",
    "quantite_retournee = SUM(retours[quantite])\n",
    "quantite_vendue = SUM(transactions[quantite])"
   ]
  },
  {
   "cell_type": "code",
   "execution_count": null,
   "metadata": {},
   "outputs": [],
   "source": [
    "# Mesure pour savoir combien a t on eu des transactions et de retours au total\n",
    "total_transactions = COUNTROWS(transactions)\n",
    "total_retours = COUNTROWS(retours)"
   ]
  },
  {
   "cell_type": "code",
   "execution_count": null,
   "metadata": {},
   "outputs": [],
   "source": [
    "# Mesure pour savoir le taux de retour d'articles\n",
    "taux_retour = DIVIDE([quantite_retournee],[quantite_vendue], \"Pas de vente\")"
   ]
  },
  {
   "cell_type": "code",
   "execution_count": null,
   "metadata": {},
   "outputs": [],
   "source": [
    "# Mesure pour connaitre le nombre de transactions faites le weekend\n",
    "transactions_weekend = CALCULATE(transactions[total_transactions], calendrier[weekend] = \"O\")"
   ]
  },
  {
   "cell_type": "code",
   "execution_count": null,
   "metadata": {},
   "outputs": [],
   "source": [
    "# Taux de transactions faites le weeekend\n",
    "%_transactions_weekend = DIVIDE(transactions[transactions_weekend], [total_transactions], \"Pas de Ventes\")"
   ]
  },
  {
   "cell_type": "code",
   "execution_count": null,
   "metadata": {},
   "outputs": [],
   "source": [
    "# Recette totale basee sur le nbre de transactions et le prix de vente du produit\n",
    "recette_totale = SUMX(transactions, transactions[quantite] * RELATED(produits[prix_vente_produit]))"
   ]
  },
  {
   "cell_type": "code",
   "execution_count": null,
   "metadata": {},
   "outputs": [],
   "source": [
    "# Cout total base sur le nbre de transactions et le cout du produit\n",
    "cout_total = sumx(transactions, transactions[quantite] * RELATED(produits[cout_produit]))"
   ]
  },
  {
   "cell_type": "code",
   "execution_count": null,
   "metadata": {},
   "outputs": [],
   "source": [
    "# Mesure pour connaitre le benefice/profit\n",
    "profit = [recette_totale] - [cout_total]"
   ]
  },
  {
   "cell_type": "code",
   "execution_count": null,
   "metadata": {},
   "outputs": [],
   "source": [
    "# Marge du profit en %\n",
    "marge_profit = DIVIDE([profit],[recette_totale])"
   ]
  },
  {
   "cell_type": "code",
   "execution_count": null,
   "metadata": {},
   "outputs": [],
   "source": [
    "# Mesure recettes Year-to-Date pour savoir comment les recettes ont evolue au fil des annees\n",
    "recette_YTD = CALCULATE([recette_totale], DATESYTD(calendrier[date]))"
   ]
  },
  {
   "cell_type": "code",
   "execution_count": null,
   "metadata": {},
   "outputs": [],
   "source": [
    "# Mesures pour avoir un apercu des recettes, retours, transactions, benefice par rapport au mois precedent\n",
    "transactions_dernier_mois = CALCULATE(transactions[total_transactions], DATEADD(calendrier[date], -1, MONTH))\n",
    "profit_dernier_mois = CALCULATE([profit], DATEADD(calendrier[date], -1, MONTH)\n",
    "recette_dernier_mois = CALCULATE([recette_totale], DATEADD(calendrier[date], -1, MONTH))\n",
    "retours_dernier_mois = CALCULATE(retours[total_retours], DATEADD(calendrier[date], -1, MONTH))\n",
    "objectif_recette = [recette_dernier_mois] * 1.05 # gagner 5% par rapport au dernier mois"
   ]
  },
  {
   "cell_type": "markdown",
   "metadata": {},
   "source": [
    "## Table Produits"
   ]
  },
  {
   "cell_type": "code",
   "execution_count": null,
   "metadata": {},
   "outputs": [],
   "source": [
    "# Savoir le nombre unique de produits\n",
    "produits_uniques = DISTINCTCOUNT(produits[nom_produit])"
   ]
  }
 ],
 "metadata": {
  "kernelspec": {
   "display_name": "Python 3",
   "language": "python",
   "name": "python3"
  },
  "language_info": {
   "codemirror_mode": {
    "name": "ipython",
    "version": 3
   },
   "file_extension": ".py",
   "mimetype": "text/x-python",
   "name": "python",
   "nbconvert_exporter": "python",
   "pygments_lexer": "ipython3",
   "version": "3.6.10"
  },
  "toc": {
   "base_numbering": 1,
   "nav_menu": {},
   "number_sections": true,
   "sideBar": true,
   "skip_h1_title": false,
   "title_cell": "Table of Contents",
   "title_sidebar": "Contents",
   "toc_cell": false,
   "toc_position": {},
   "toc_section_display": true,
   "toc_window_display": true
  },
  "varInspector": {
   "cols": {
    "lenName": 16,
    "lenType": 16,
    "lenVar": 40
   },
   "kernels_config": {
    "python": {
     "delete_cmd_postfix": "",
     "delete_cmd_prefix": "del ",
     "library": "var_list.py",
     "varRefreshCmd": "print(var_dic_list())"
    },
    "r": {
     "delete_cmd_postfix": ") ",
     "delete_cmd_prefix": "rm(",
     "library": "var_list.r",
     "varRefreshCmd": "cat(var_dic_list()) "
    }
   },
   "types_to_exclude": [
    "module",
    "function",
    "builtin_function_or_method",
    "instance",
    "_Feature"
   ],
   "window_display": false
  }
 },
 "nbformat": 4,
 "nbformat_minor": 4
}
